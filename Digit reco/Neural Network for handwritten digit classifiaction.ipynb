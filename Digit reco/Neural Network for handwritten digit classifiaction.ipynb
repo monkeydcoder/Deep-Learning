{
 "cells": [
  {
   "cell_type": "markdown",
   "id": "4f57ed01",
   "metadata": {},
   "source": [
    "# Handwritten digit recog"
   ]
  },
  {
   "cell_type": "code",
   "execution_count": 1,
   "id": "a85b0e08",
   "metadata": {},
   "outputs": [],
   "source": [
    "import tensorflow as tf\n",
    "from tensorflow import keras\n",
    "import matplotlib.pyplot as plt\n",
    "%matplotlib inline\n",
    "import numpy as np"
   ]
  },
  {
   "cell_type": "markdown",
   "id": "8b5c58c7",
   "metadata": {},
   "source": [
    "Loading the train, test data from keras"
   ]
  },
  {
   "cell_type": "code",
   "execution_count": 2,
   "id": "bdb168ca",
   "metadata": {},
   "outputs": [],
   "source": [
    "(X_train, y_train), (X_test, y_test) = keras.datasets.mnist.load_data()"
   ]
  },
  {
   "cell_type": "markdown",
   "id": "18215982",
   "metadata": {},
   "source": [
    "Checking the length of the loaded dataset"
   ]
  },
  {
   "cell_type": "code",
   "execution_count": 3,
   "id": "ab6f445b",
   "metadata": {},
   "outputs": [
    {
     "data": {
      "text/plain": [
       "60000"
      ]
     },
     "execution_count": 3,
     "metadata": {},
     "output_type": "execute_result"
    }
   ],
   "source": [
    "len(X_train)"
   ]
  },
  {
   "cell_type": "code",
   "execution_count": 4,
   "id": "db4facf5",
   "metadata": {},
   "outputs": [
    {
     "data": {
      "text/plain": [
       "10000"
      ]
     },
     "execution_count": 4,
     "metadata": {},
     "output_type": "execute_result"
    }
   ],
   "source": [
    "len(X_test)"
   ]
  },
  {
   "cell_type": "code",
   "execution_count": 36,
   "id": "9b890910",
   "metadata": {},
   "outputs": [
    {
     "name": "stdout",
     "output_type": "stream",
     "text": [
      "[[0.         0.         0.         0.         0.         0.\n",
      "  0.         0.         0.         0.         0.         0.\n",
      "  0.         0.         0.         0.         0.         0.\n",
      "  0.         0.         0.         0.         0.         0.\n",
      "  0.         0.         0.         0.        ]\n",
      " [0.         0.         0.         0.         0.         0.\n",
      "  0.         0.         0.         0.         0.         0.\n",
      "  0.         0.         0.         0.         0.         0.\n",
      "  0.         0.         0.         0.         0.         0.\n",
      "  0.         0.         0.         0.        ]\n",
      " [0.         0.         0.         0.         0.         0.\n",
      "  0.         0.         0.         0.         0.         0.\n",
      "  0.         0.         0.         0.         0.         0.\n",
      "  0.         0.         0.         0.         0.         0.\n",
      "  0.         0.         0.         0.        ]\n",
      " [0.         0.         0.         0.         0.         0.\n",
      "  0.         0.         0.         0.         0.         0.\n",
      "  0.         0.         0.         0.         0.         0.\n",
      "  0.         0.         0.         0.         0.         0.\n",
      "  0.         0.         0.         0.        ]\n",
      " [0.         0.         0.         0.         0.         0.\n",
      "  0.         0.         0.         0.         0.         0.\n",
      "  0.         0.         0.         0.         0.         0.\n",
      "  0.         0.         0.         0.         0.         0.\n",
      "  0.         0.         0.         0.        ]\n",
      " [0.         0.         0.         0.         0.         0.\n",
      "  0.         0.         0.         0.         0.         0.\n",
      "  0.01176471 0.07058824 0.07058824 0.07058824 0.49411765 0.53333333\n",
      "  0.68627451 0.10196078 0.65098039 1.         0.96862745 0.49803922\n",
      "  0.         0.         0.         0.        ]\n",
      " [0.         0.         0.         0.         0.         0.\n",
      "  0.         0.         0.11764706 0.14117647 0.36862745 0.60392157\n",
      "  0.66666667 0.99215686 0.99215686 0.99215686 0.99215686 0.99215686\n",
      "  0.88235294 0.6745098  0.99215686 0.94901961 0.76470588 0.25098039\n",
      "  0.         0.         0.         0.        ]\n",
      " [0.         0.         0.         0.         0.         0.\n",
      "  0.         0.19215686 0.93333333 0.99215686 0.99215686 0.99215686\n",
      "  0.99215686 0.99215686 0.99215686 0.99215686 0.99215686 0.98431373\n",
      "  0.36470588 0.32156863 0.32156863 0.21960784 0.15294118 0.\n",
      "  0.         0.         0.         0.        ]\n",
      " [0.         0.         0.         0.         0.         0.\n",
      "  0.         0.07058824 0.85882353 0.99215686 0.99215686 0.99215686\n",
      "  0.99215686 0.99215686 0.77647059 0.71372549 0.96862745 0.94509804\n",
      "  0.         0.         0.         0.         0.         0.\n",
      "  0.         0.         0.         0.        ]\n",
      " [0.         0.         0.         0.         0.         0.\n",
      "  0.         0.         0.31372549 0.61176471 0.41960784 0.99215686\n",
      "  0.99215686 0.80392157 0.04313725 0.         0.16862745 0.60392157\n",
      "  0.         0.         0.         0.         0.         0.\n",
      "  0.         0.         0.         0.        ]\n",
      " [0.         0.         0.         0.         0.         0.\n",
      "  0.         0.         0.         0.05490196 0.00392157 0.60392157\n",
      "  0.99215686 0.35294118 0.         0.         0.         0.\n",
      "  0.         0.         0.         0.         0.         0.\n",
      "  0.         0.         0.         0.        ]\n",
      " [0.         0.         0.         0.         0.         0.\n",
      "  0.         0.         0.         0.         0.         0.54509804\n",
      "  0.99215686 0.74509804 0.00784314 0.         0.         0.\n",
      "  0.         0.         0.         0.         0.         0.\n",
      "  0.         0.         0.         0.        ]\n",
      " [0.         0.         0.         0.         0.         0.\n",
      "  0.         0.         0.         0.         0.         0.04313725\n",
      "  0.74509804 0.99215686 0.2745098  0.         0.         0.\n",
      "  0.         0.         0.         0.         0.         0.\n",
      "  0.         0.         0.         0.        ]\n",
      " [0.         0.         0.         0.         0.         0.\n",
      "  0.         0.         0.         0.         0.         0.\n",
      "  0.1372549  0.94509804 0.88235294 0.62745098 0.42352941 0.00392157\n",
      "  0.         0.         0.         0.         0.         0.\n",
      "  0.         0.         0.         0.        ]\n",
      " [0.         0.         0.         0.         0.         0.\n",
      "  0.         0.         0.         0.         0.         0.\n",
      "  0.         0.31764706 0.94117647 0.99215686 0.99215686 0.46666667\n",
      "  0.09803922 0.         0.         0.         0.         0.\n",
      "  0.         0.         0.         0.        ]\n",
      " [0.         0.         0.         0.         0.         0.\n",
      "  0.         0.         0.         0.         0.         0.\n",
      "  0.         0.         0.17647059 0.72941176 0.99215686 0.99215686\n",
      "  0.58823529 0.10588235 0.         0.         0.         0.\n",
      "  0.         0.         0.         0.        ]\n",
      " [0.         0.         0.         0.         0.         0.\n",
      "  0.         0.         0.         0.         0.         0.\n",
      "  0.         0.         0.         0.0627451  0.36470588 0.98823529\n",
      "  0.99215686 0.73333333 0.         0.         0.         0.\n",
      "  0.         0.         0.         0.        ]\n",
      " [0.         0.         0.         0.         0.         0.\n",
      "  0.         0.         0.         0.         0.         0.\n",
      "  0.         0.         0.         0.         0.         0.97647059\n",
      "  0.99215686 0.97647059 0.25098039 0.         0.         0.\n",
      "  0.         0.         0.         0.        ]\n",
      " [0.         0.         0.         0.         0.         0.\n",
      "  0.         0.         0.         0.         0.         0.\n",
      "  0.         0.         0.18039216 0.50980392 0.71764706 0.99215686\n",
      "  0.99215686 0.81176471 0.00784314 0.         0.         0.\n",
      "  0.         0.         0.         0.        ]\n",
      " [0.         0.         0.         0.         0.         0.\n",
      "  0.         0.         0.         0.         0.         0.\n",
      "  0.15294118 0.58039216 0.89803922 0.99215686 0.99215686 0.99215686\n",
      "  0.98039216 0.71372549 0.         0.         0.         0.\n",
      "  0.         0.         0.         0.        ]\n",
      " [0.         0.         0.         0.         0.         0.\n",
      "  0.         0.         0.         0.         0.09411765 0.44705882\n",
      "  0.86666667 0.99215686 0.99215686 0.99215686 0.99215686 0.78823529\n",
      "  0.30588235 0.         0.         0.         0.         0.\n",
      "  0.         0.         0.         0.        ]\n",
      " [0.         0.         0.         0.         0.         0.\n",
      "  0.         0.         0.09019608 0.25882353 0.83529412 0.99215686\n",
      "  0.99215686 0.99215686 0.99215686 0.77647059 0.31764706 0.00784314\n",
      "  0.         0.         0.         0.         0.         0.\n",
      "  0.         0.         0.         0.        ]\n",
      " [0.         0.         0.         0.         0.         0.\n",
      "  0.07058824 0.67058824 0.85882353 0.99215686 0.99215686 0.99215686\n",
      "  0.99215686 0.76470588 0.31372549 0.03529412 0.         0.\n",
      "  0.         0.         0.         0.         0.         0.\n",
      "  0.         0.         0.         0.        ]\n",
      " [0.         0.         0.         0.         0.21568627 0.6745098\n",
      "  0.88627451 0.99215686 0.99215686 0.99215686 0.99215686 0.95686275\n",
      "  0.52156863 0.04313725 0.         0.         0.         0.\n",
      "  0.         0.         0.         0.         0.         0.\n",
      "  0.         0.         0.         0.        ]\n",
      " [0.         0.         0.         0.         0.53333333 0.99215686\n",
      "  0.99215686 0.99215686 0.83137255 0.52941176 0.51764706 0.0627451\n",
      "  0.         0.         0.         0.         0.         0.\n",
      "  0.         0.         0.         0.         0.         0.\n",
      "  0.         0.         0.         0.        ]\n",
      " [0.         0.         0.         0.         0.         0.\n",
      "  0.         0.         0.         0.         0.         0.\n",
      "  0.         0.         0.         0.         0.         0.\n",
      "  0.         0.         0.         0.         0.         0.\n",
      "  0.         0.         0.         0.        ]\n",
      " [0.         0.         0.         0.         0.         0.\n",
      "  0.         0.         0.         0.         0.         0.\n",
      "  0.         0.         0.         0.         0.         0.\n",
      "  0.         0.         0.         0.         0.         0.\n",
      "  0.         0.         0.         0.        ]\n",
      " [0.         0.         0.         0.         0.         0.\n",
      "  0.         0.         0.         0.         0.         0.\n",
      "  0.         0.         0.         0.         0.         0.\n",
      "  0.         0.         0.         0.         0.         0.\n",
      "  0.         0.         0.         0.        ]]\n"
     ]
    }
   ],
   "source": [
    "print(X_train[0])"
   ]
  },
  {
   "cell_type": "markdown",
   "id": "54426063",
   "metadata": {},
   "source": [
    "Visualizing what is above using matplotlib"
   ]
  },
  {
   "cell_type": "code",
   "execution_count": 35,
   "id": "db2d4414",
   "metadata": {},
   "outputs": [
    {
     "data": {
      "text/plain": [
       "<matplotlib.image.AxesImage at 0x1555eb490>"
      ]
     },
     "execution_count": 35,
     "metadata": {},
     "output_type": "execute_result"
    },
    {
     "data": {
      "image/png": "[encoded data removed]",
      "text/plain": [
       "<Figure size 480x480 with 1 Axes>"
      ]
     },
     "metadata": {},
     "output_type": "display_data"
    }
   ],
   "source": [
    "plt.matshow(X_train[0])"
   ]
  },
  {
   "cell_type": "markdown",
   "id": "5c902163",
   "metadata": {},
   "source": [
    "As we can see above image is hand written 5, lets Check"
   ]
  },
  {
   "cell_type": "code",
   "execution_count": 34,
   "id": "76fb8e53",
   "metadata": {},
   "outputs": [
    {
     "data": {
      "text/plain": [
       "5"
      ]
     },
     "execution_count": 34,
     "metadata": {},
     "output_type": "execute_result"
    }
   ],
   "source": [
    "y_train[0]"
   ]
  },
  {
   "cell_type": "markdown",
   "id": "0fa4f506",
   "metadata": {},
   "source": [
    "Printing the first 5 elements of y_train"
   ]
  },
  {
   "cell_type": "code",
   "execution_count": 8,
   "id": "b047a441",
   "metadata": {},
   "outputs": [
    {
     "data": {
      "text/plain": [
       "array([5, 0, 4, 1, 9], dtype=uint8)"
      ]
     },
     "execution_count": 8,
     "metadata": {},
     "output_type": "execute_result"
    }
   ],
   "source": [
    "y_train[:5]"
   ]
  },
  {
   "cell_type": "markdown",
   "id": "89103570",
   "metadata": {},
   "source": [
    "Now Since we know that the dataset is in 2D array we will flatter it into a 1D array using reshape function and will give every element as a input to the neurons."
   ]
  },
  {
   "cell_type": "code",
   "execution_count": 9,
   "id": "425fe55e",
   "metadata": {},
   "outputs": [
    {
     "data": {
      "text/plain": [
       "(60000, 28, 28)"
      ]
     },
     "execution_count": 9,
     "metadata": {},
     "output_type": "execute_result"
    }
   ],
   "source": [
    "X_train.shape"
   ]
  },
  {
   "cell_type": "markdown",
   "id": "f3ea65d8",
   "metadata": {},
   "source": [
    "Performing the below step so that all the values lies between 0 to 1"
   ]
  },
  {
   "cell_type": "code",
   "execution_count": 10,
   "id": "1f973b1c",
   "metadata": {},
   "outputs": [],
   "source": [
    "X_train = X_train/255\n",
    "X_test = X_test/255"
   ]
  },
  {
   "cell_type": "code",
   "execution_count": 11,
   "id": "cb2acbfc",
   "metadata": {},
   "outputs": [
    {
     "data": {
      "text/plain": [
       "array([[0.        , 0.        , 0.        , 0.        , 0.        ,\n",
       "        0.        , 0.        , 0.        , 0.        , 0.        ,\n",
       "        0.        , 0.        , 0.        , 0.        , 0.        ,\n",
       "        0.        , 0.        , 0.        , 0.        , 0.        ,\n",
       "        0.        , 0.        , 0.        , 0.        , 0.        ,\n",
       "        0.        , 0.        , 0.        ],\n",
       "       [0.        , 0.        , 0.        , 0.        , 0.        ,\n",
       "        0.        , 0.        , 0.        , 0.        , 0.        ,\n",
       "        0.        , 0.        , 0.        , 0.        , 0.        ,\n",
       "        0.        , 0.        , 0.        , 0.        , 0.        ,\n",
       "        0.        , 0.        , 0.        , 0.        , 0.        ,\n",
       "        0.        , 0.        , 0.        ],\n",
       "       [0.        , 0.        , 0.        , 0.        , 0.        ,\n",
       "        0.        , 0.        , 0.        , 0.        , 0.        ,\n",
       "        0.        , 0.        , 0.        , 0.        , 0.        ,\n",
       "        0.        , 0.        , 0.        , 0.        , 0.        ,\n",
       "        0.        , 0.        , 0.        , 0.        , 0.        ,\n",
       "        0.        , 0.        , 0.        ],\n",
       "       [0.        , 0.        , 0.        , 0.        , 0.        ,\n",
       "        0.        , 0.        , 0.        , 0.        , 0.        ,\n",
       "        0.        , 0.        , 0.        , 0.        , 0.        ,\n",
       "        0.        , 0.        , 0.        , 0.        , 0.        ,\n",
       "        0.        , 0.        , 0.        , 0.        , 0.        ,\n",
       "        0.        , 0.        , 0.        ],\n",
       "       [0.        , 0.        , 0.        , 0.        , 0.        ,\n",
       "        0.        , 0.        , 0.        , 0.        , 0.        ,\n",
       "        0.        , 0.        , 0.        , 0.        , 0.        ,\n",
       "        0.        , 0.        , 0.        , 0.        , 0.        ,\n",
       "        0.        , 0.        , 0.        , 0.        , 0.        ,\n",
       "        0.        , 0.        , 0.        ],\n",
       "       [0.        , 0.        , 0.        , 0.        , 0.        ,\n",
       "        0.        , 0.        , 0.        , 0.        , 0.        ,\n",
       "        0.        , 0.        , 0.01176471, 0.07058824, 0.07058824,\n",
       "        0.07058824, 0.49411765, 0.53333333, 0.68627451, 0.10196078,\n",
       "        0.65098039, 1.        , 0.96862745, 0.49803922, 0.        ,\n",
       "        0.        , 0.        , 0.        ],\n",
       "       [0.        , 0.        , 0.        , 0.        , 0.        ,\n",
       "        0.        , 0.        , 0.        , 0.11764706, 0.14117647,\n",
       "        0.36862745, 0.60392157, 0.66666667, 0.99215686, 0.99215686,\n",
       "        0.99215686, 0.99215686, 0.99215686, 0.88235294, 0.6745098 ,\n",
       "        0.99215686, 0.94901961, 0.76470588, 0.25098039, 0.        ,\n",
       "        0.        , 0.        , 0.        ],\n",
       "       [0.        , 0.        , 0.        , 0.        , 0.        ,\n",
       "        0.        , 0.        , 0.19215686, 0.93333333, 0.99215686,\n",
       "        0.99215686, 0.99215686, 0.99215686, 0.99215686, 0.99215686,\n",
       "        0.99215686, 0.99215686, 0.98431373, 0.36470588, 0.32156863,\n",
       "        0.32156863, 0.21960784, 0.15294118, 0.        , 0.        ,\n",
       "        0.        , 0.        , 0.        ],\n",
       "       [0.        , 0.        , 0.        , 0.        , 0.        ,\n",
       "        0.        , 0.        , 0.07058824, 0.85882353, 0.99215686,\n",
       "        0.99215686, 0.99215686, 0.99215686, 0.99215686, 0.77647059,\n",
       "        0.71372549, 0.96862745, 0.94509804, 0.        , 0.        ,\n",
       "        0.        , 0.        , 0.        , 0.        , 0.        ,\n",
       "        0.        , 0.        , 0.        ],\n",
       "       [0.        , 0.        , 0.        , 0.        , 0.        ,\n",
       "        0.        , 0.        , 0.        , 0.31372549, 0.61176471,\n",
       "        0.41960784, 0.99215686, 0.99215686, 0.80392157, 0.04313725,\n",
       "        0.        , 0.16862745, 0.60392157, 0.        , 0.        ,\n",
       "        0.        , 0.        , 0.        , 0.        , 0.        ,\n",
       "        0.        , 0.        , 0.        ],\n",
       "       [0.        , 0.        , 0.        , 0.        , 0.        ,\n",
       "        0.        , 0.        , 0.        , 0.        , 0.05490196,\n",
       "        0.00392157, 0.60392157, 0.99215686, 0.35294118, 0.        ,\n",
       "        0.        , 0.        , 0.        , 0.        , 0.        ,\n",
       "        0.        , 0.        , 0.        , 0.        , 0.        ,\n",
       "        0.        , 0.        , 0.        ],\n",
       "       [0.        , 0.        , 0.        , 0.        , 0.        ,\n",
       "        0.        , 0.        , 0.        , 0.        , 0.        ,\n",
       "        0.        , 0.54509804, 0.99215686, 0.74509804, 0.00784314,\n",
       "        0.        , 0.        , 0.        , 0.        , 0.        ,\n",
       "        0.        , 0.        , 0.        , 0.        , 0.        ,\n",
       "        0.        , 0.        , 0.        ],\n",
       "       [0.        , 0.        , 0.        , 0.        , 0.        ,\n",
       "        0.        , 0.        , 0.        , 0.        , 0.        ,\n",
       "        0.        , 0.04313725, 0.74509804, 0.99215686, 0.2745098 ,\n",
       "        0.        , 0.        , 0.        , 0.        , 0.        ,\n",
       "        0.        , 0.        , 0.        , 0.        , 0.        ,\n",
       "        0.        , 0.        , 0.        ],\n",
       "       [0.        , 0.        , 0.        , 0.        , 0.        ,\n",
       "        0.        , 0.        , 0.        , 0.        , 0.        ,\n",
       "        0.        , 0.        , 0.1372549 , 0.94509804, 0.88235294,\n",
       "        0.62745098, 0.42352941, 0.00392157, 0.        , 0.        ,\n",
       "        0.        , 0.        , 0.        , 0.        , 0.        ,\n",
       "        0.        , 0.        , 0.        ],\n",
       "       [0.        , 0.        , 0.        , 0.        , 0.        ,\n",
       "        0.        , 0.        , 0.        , 0.        , 0.        ,\n",
       "        0.        , 0.        , 0.        , 0.31764706, 0.94117647,\n",
       "        0.99215686, 0.99215686, 0.46666667, 0.09803922, 0.        ,\n",
       "        0.        , 0.        , 0.        , 0.        , 0.        ,\n",
       "        0.        , 0.        , 0.        ],\n",
       "       [0.        , 0.        , 0.        , 0.        , 0.        ,\n",
       "        0.        , 0.        , 0.        , 0.        , 0.        ,\n",
       "        0.        , 0.        , 0.        , 0.        , 0.17647059,\n",
       "        0.72941176, 0.99215686, 0.99215686, 0.58823529, 0.10588235,\n",
       "        0.        , 0.        , 0.        , 0.        , 0.        ,\n",
       "        0.        , 0.        , 0.        ],\n",
       "       [0.        , 0.        , 0.        , 0.        , 0.        ,\n",
       "        0.        , 0.        , 0.        , 0.        , 0.        ,\n",
       "        0.        , 0.        , 0.        , 0.        , 0.        ,\n",
       "        0.0627451 , 0.36470588, 0.98823529, 0.99215686, 0.73333333,\n",
       "        0.        , 0.        , 0.        , 0.        , 0.        ,\n",
       "        0.        , 0.        , 0.        ],\n",
       "       [0.        , 0.        , 0.        , 0.        , 0.        ,\n",
       "        0.        , 0.        , 0.        , 0.        , 0.        ,\n",
       "        0.        , 0.        , 0.        , 0.        , 0.        ,\n",
       "        0.        , 0.        , 0.97647059, 0.99215686, 0.97647059,\n",
       "        0.25098039, 0.        , 0.        , 0.        , 0.        ,\n",
       "        0.        , 0.        , 0.        ],\n",
       "       [0.        , 0.        , 0.        , 0.        , 0.        ,\n",
       "        0.        , 0.        , 0.        , 0.        , 0.        ,\n",
       "        0.        , 0.        , 0.        , 0.        , 0.18039216,\n",
       "        0.50980392, 0.71764706, 0.99215686, 0.99215686, 0.81176471,\n",
       "        0.00784314, 0.        , 0.        , 0.        , 0.        ,\n",
       "        0.        , 0.        , 0.        ],\n",
       "       [0.        , 0.        , 0.        , 0.        , 0.        ,\n",
       "        0.        , 0.        , 0.        , 0.        , 0.        ,\n",
       "        0.        , 0.        , 0.15294118, 0.58039216, 0.89803922,\n",
       "        0.99215686, 0.99215686, 0.99215686, 0.98039216, 0.71372549,\n",
       "        0.        , 0.        , 0.        , 0.        , 0.        ,\n",
       "        0.        , 0.        , 0.        ],\n",
       "       [0.        , 0.        , 0.        , 0.        , 0.        ,\n",
       "        0.        , 0.        , 0.        , 0.        , 0.        ,\n",
       "        0.09411765, 0.44705882, 0.86666667, 0.99215686, 0.99215686,\n",
       "        0.99215686, 0.99215686, 0.78823529, 0.30588235, 0.        ,\n",
       "        0.        , 0.        , 0.        , 0.        , 0.        ,\n",
       "        0.        , 0.        , 0.        ],\n",
       "       [0.        , 0.        , 0.        , 0.        , 0.        ,\n",
       "        0.        , 0.        , 0.        , 0.09019608, 0.25882353,\n",
       "        0.83529412, 0.99215686, 0.99215686, 0.99215686, 0.99215686,\n",
       "        0.77647059, 0.31764706, 0.00784314, 0.        , 0.        ,\n",
       "        0.        , 0.        , 0.        , 0.        , 0.        ,\n",
       "        0.        , 0.        , 0.        ],\n",
       "       [0.        , 0.        , 0.        , 0.        , 0.        ,\n",
       "        0.        , 0.07058824, 0.67058824, 0.85882353, 0.99215686,\n",
       "        0.99215686, 0.99215686, 0.99215686, 0.76470588, 0.31372549,\n",
       "        0.03529412, 0.        , 0.        , 0.        , 0.        ,\n",
       "        0.        , 0.        , 0.        , 0.        , 0.        ,\n",
       "        0.        , 0.        , 0.        ],\n",
       "       [0.        , 0.        , 0.        , 0.        , 0.21568627,\n",
       "        0.6745098 , 0.88627451, 0.99215686, 0.99215686, 0.99215686,\n",
       "        0.99215686, 0.95686275, 0.52156863, 0.04313725, 0.        ,\n",
       "        0.        , 0.        , 0.        , 0.        , 0.        ,\n",
       "        0.        , 0.        , 0.        , 0.        , 0.        ,\n",
       "        0.        , 0.        , 0.        ],\n",
       "       [0.        , 0.        , 0.        , 0.        , 0.53333333,\n",
       "        0.99215686, 0.99215686, 0.99215686, 0.83137255, 0.52941176,\n",
       "        0.51764706, 0.0627451 , 0.        , 0.        , 0.        ,\n",
       "        0.        , 0.        , 0.        , 0.        , 0.        ,\n",
       "        0.        , 0.        , 0.        , 0.        , 0.        ,\n",
       "        0.        , 0.        , 0.        ],\n",
       "       [0.        , 0.        , 0.        , 0.        , 0.        ,\n",
       "        0.        , 0.        , 0.        , 0.        , 0.        ,\n",
       "        0.        , 0.        , 0.        , 0.        , 0.        ,\n",
       "        0.        , 0.        , 0.        , 0.        , 0.        ,\n",
       "        0.        , 0.        , 0.        , 0.        , 0.        ,\n",
       "        0.        , 0.        , 0.        ],\n",
       "       [0.        , 0.        , 0.        , 0.        , 0.        ,\n",
       "        0.        , 0.        , 0.        , 0.        , 0.        ,\n",
       "        0.        , 0.        , 0.        , 0.        , 0.        ,\n",
       "        0.        , 0.        , 0.        , 0.        , 0.        ,\n",
       "        0.        , 0.        , 0.        , 0.        , 0.        ,\n",
       "        0.        , 0.        , 0.        ],\n",
       "       [0.        , 0.        , 0.        , 0.        , 0.        ,\n",
       "        0.        , 0.        , 0.        , 0.        , 0.        ,\n",
       "        0.        , 0.        , 0.        , 0.        , 0.        ,\n",
       "        0.        , 0.        , 0.        , 0.        , 0.        ,\n",
       "        0.        , 0.        , 0.        , 0.        , 0.        ,\n",
       "        0.        , 0.        , 0.        ]])"
      ]
     },
     "execution_count": 11,
     "metadata": {},
     "output_type": "execute_result"
    }
   ],
   "source": [
    "X_train[0]"
   ]
  },
  {
   "cell_type": "markdown",
   "id": "7e61aca7",
   "metadata": {},
   "source": [
    "Now the X_train is converted from a 2d array to 1d array"
   ]
  },
  {
   "cell_type": "code",
   "execution_count": 12,
   "id": "6d0ba628",
   "metadata": {},
   "outputs": [
    {
     "data": {
      "text/plain": [
       "(60000, 784)"
      ]
     },
     "execution_count": 12,
     "metadata": {},
     "output_type": "execute_result"
    }
   ],
   "source": [
    "X_train_flattened = X_train.reshape(len(X_train), 28*28)\n",
    "X_test_flattened = X_test.reshape(len(X_test), 28*28)\n",
    "X_train_flattened.shape"
   ]
  },
  {
   "cell_type": "markdown",
   "id": "de968e41",
   "metadata": {},
   "source": [
    "Defining the Neural Networks using keras\n",
    "\n",
    "Here 10 is the number of output layer we need && input_shape is number of input neuron\n",
    "\n",
    "Dense is used for --> We want every input neuron to maped with every output neuron thus used Dense\n",
    "\n",
    "model.compile as the name suggest compile the model \n",
    "model.fit is for fiting the data Note here we used the flattened train data "
   ]
  },
  {
   "cell_type": "code",
   "execution_count": 13,
   "id": "9aa50b30",
   "metadata": {},
   "outputs": [
    {
     "name": "stdout",
     "output_type": "stream",
     "text": [
      "Epoch 1/10\n",
      "1875/1875 [==============================] - 1s 426us/step - loss: 0.4707 - accuracy: 0.8773\n",
      "Epoch 2/10\n",
      "1875/1875 [==============================] - 1s 447us/step - loss: 0.3043 - accuracy: 0.9156\n",
      "Epoch 3/10\n",
      "1875/1875 [==============================] - 1s 420us/step - loss: 0.2832 - accuracy: 0.9204\n",
      "Epoch 4/10\n",
      "1875/1875 [==============================] - 1s 423us/step - loss: 0.2734 - accuracy: 0.9240\n",
      "Epoch 5/10\n",
      "1875/1875 [==============================] - 1s 420us/step - loss: 0.2663 - accuracy: 0.9257\n",
      "Epoch 6/10\n",
      "1875/1875 [==============================] - 1s 420us/step - loss: 0.2619 - accuracy: 0.9274\n",
      "Epoch 7/10\n",
      "1875/1875 [==============================] - 1s 419us/step - loss: 0.2586 - accuracy: 0.9284\n",
      "Epoch 8/10\n",
      "1875/1875 [==============================] - 1s 418us/step - loss: 0.2556 - accuracy: 0.9291\n",
      "Epoch 9/10\n",
      "1875/1875 [==============================] - 1s 448us/step - loss: 0.2528 - accuracy: 0.9299\n",
      "Epoch 10/10\n",
      "1875/1875 [==============================] - 1s 427us/step - loss: 0.2511 - accuracy: 0.9304\n"
     ]
    },
    {
     "data": {
      "text/plain": [
       "<keras.src.callbacks.History at 0x152c91090>"
      ]
     },
     "execution_count": 13,
     "metadata": {},
     "output_type": "execute_result"
    }
   ],
   "source": [
    "model = keras.Sequential([\n",
    "    keras.layers.Dense(10, input_shape = (784,), activation = 'sigmoid')\n",
    "])\n",
    "\n",
    "model.compile(\n",
    "    optimizer = 'adam',\n",
    "    loss = 'sparse_categorical_crossentropy',\n",
    "    metrics = ['accuracy']\n",
    ")\n",
    "\n",
    "model.fit(X_train_flattened, y_train, epochs = 10)"
   ]
  },
  {
   "cell_type": "markdown",
   "id": "50f4f625",
   "metadata": {},
   "source": [
    "Now Checking the Model performance \n",
    "\n",
    "Using the model.evaluate \n",
    "\n",
    "NOTE --> Accuracy is 92.81%"
   ]
  },
  {
   "cell_type": "code",
   "execution_count": 14,
   "id": "a39ec3ad",
   "metadata": {},
   "outputs": [
    {
     "name": "stdout",
     "output_type": "stream",
     "text": [
      "313/313 [==============================] - 0s 404us/step - loss: 0.2683 - accuracy: 0.9241\n"
     ]
    },
    {
     "data": {
      "text/plain": [
       "[0.26829254627227783, 0.9240999817848206]"
      ]
     },
     "execution_count": 14,
     "metadata": {},
     "output_type": "execute_result"
    }
   ],
   "source": [
    "model.evaluate(X_test_flattened, y_test)"
   ]
  },
  {
   "cell_type": "code",
   "execution_count": 15,
   "id": "7bbe4997",
   "metadata": {},
   "outputs": [
    {
     "data": {
      "text/plain": [
       "<matplotlib.image.AxesImage at 0x1532f4ed0>"
      ]
     },
     "execution_count": 15,
     "metadata": {},
     "output_type": "execute_result"
    },
    {
     "data": {
      "image/png": "[encoded data removed]",
      "text/plain": [
       "<Figure size 480x480 with 1 Axes>"
      ]
     },
     "metadata": {},
     "output_type": "display_data"
    }
   ],
   "source": [
    "plt.matshow(X_test[10])"
   ]
  },
  {
   "cell_type": "code",
   "execution_count": 16,
   "id": "1ea407b7",
   "metadata": {},
   "outputs": [
    {
     "name": "stdout",
     "output_type": "stream",
     "text": [
      "313/313 [==============================] - 0s 376us/step\n"
     ]
    }
   ],
   "source": [
    "y_predicted = model.predict(X_test_flattened)"
   ]
  },
  {
   "cell_type": "code",
   "execution_count": 17,
   "id": "b4d48534",
   "metadata": {},
   "outputs": [
    {
     "name": "stdout",
     "output_type": "stream",
     "text": [
      "[9.9897909e-01 4.9254208e-08 3.9366105e-01 6.3168891e-02 4.4989090e-05\n",
      " 8.0829853e-01 3.9000474e-02 4.2954816e-06 3.2641375e-01 5.7797495e-04]\n"
     ]
    }
   ],
   "source": [
    "print(y_predicted[10])"
   ]
  },
  {
   "cell_type": "markdown",
   "id": "ce0f3545",
   "metadata": {},
   "source": [
    "Above cell is printing all the output, but we want only one which has the maximum value i.e that would be our answer\n",
    "\n",
    "argmax is numpy function which gives the highest value among the given"
   ]
  },
  {
   "cell_type": "code",
   "execution_count": 18,
   "id": "a119268f",
   "metadata": {},
   "outputs": [
    {
     "data": {
      "text/plain": [
       "0"
      ]
     },
     "execution_count": 18,
     "metadata": {},
     "output_type": "execute_result"
    }
   ],
   "source": [
    "np.argmax(y_predicted[10])"
   ]
  },
  {
   "cell_type": "code",
   "execution_count": 19,
   "id": "de7e400d",
   "metadata": {},
   "outputs": [
    {
     "data": {
      "text/plain": [
       "array([[4.24733292e-03, 1.70001577e-08, 1.88034754e-02, 9.76200640e-01,\n",
       "        1.09048549e-03, 1.53343216e-01, 4.14991490e-08, 9.99881208e-01,\n",
       "        7.28140995e-02, 7.21554697e-01],\n",
       "       [3.50323409e-01, 6.85880007e-03, 9.99738276e-01, 1.81187138e-01,\n",
       "        1.21147129e-11, 8.78820300e-01, 8.96829784e-01, 2.13558245e-15,\n",
       "        6.46771640e-02, 2.68100147e-12],\n",
       "       [1.26575935e-04, 9.94328678e-01, 6.53608263e-01, 2.48819992e-01,\n",
       "        1.79170426e-02, 1.17334865e-01, 1.36184245e-01, 4.56035212e-02,\n",
       "        2.91616887e-01, 2.19523385e-02],\n",
       "       [9.99661982e-01, 1.32025146e-08, 9.37333182e-02, 4.31769248e-03,\n",
       "        1.49190346e-05, 4.72574309e-02, 1.77167892e-01, 8.38411972e-03,\n",
       "        7.42171379e-03, 1.25415251e-02],\n",
       "       [5.51000983e-02, 1.36070976e-05, 1.37302473e-01, 2.77804513e-03,\n",
       "        9.85738575e-01, 1.07547268e-02, 1.82748049e-01, 2.96314329e-01,\n",
       "        1.90403089e-01, 7.39174843e-01]], dtype=float32)"
      ]
     },
     "execution_count": 19,
     "metadata": {},
     "output_type": "execute_result"
    }
   ],
   "source": [
    "y_predicted[:5]"
   ]
  },
  {
   "cell_type": "markdown",
   "id": "90808921",
   "metadata": {},
   "source": [
    "Since we are getting all the output layers output\n",
    "\n",
    "It basically showing the Probability of the given image to be 0,1,2,....9\n",
    "But we dont want all the Probability we just want highest probability of the image what it is supposed to be by our model\n",
    "\n"
   ]
  },
  {
   "cell_type": "code",
   "execution_count": 20,
   "id": "58465700",
   "metadata": {},
   "outputs": [
    {
     "data": {
      "text/plain": [
       "[7, 2, 1, 0, 4]"
      ]
     },
     "execution_count": 20,
     "metadata": {},
     "output_type": "execute_result"
    }
   ],
   "source": [
    "y_predicted_label = [np.argmax(i) for i in y_predicted]\n",
    "y_predicted_label[:5]"
   ]
  },
  {
   "cell_type": "code",
   "execution_count": 21,
   "id": "24aaaf7e",
   "metadata": {},
   "outputs": [
    {
     "data": {
      "text/plain": [
       "array([7, 2, 1, 0, 4], dtype=uint8)"
      ]
     },
     "execution_count": 21,
     "metadata": {},
     "output_type": "execute_result"
    }
   ],
   "source": [
    "y_test[:5]"
   ]
  },
  {
   "cell_type": "code",
   "execution_count": 22,
   "id": "6c3acbfc",
   "metadata": {},
   "outputs": [
    {
     "data": {
      "text/plain": [
       "<tf.Tensor: shape=(10, 10), dtype=int32, numpy=\n",
       "array([[ 960,    0,    2,    2,    0,    7,    6,    2,    1,    0],\n",
       "       [   0, 1117,    3,    2,    0,    1,    4,    2,    6,    0],\n",
       "       [   7,    9,  927,   20,    7,    3,   12,   11,   31,    5],\n",
       "       [   2,    0,   14,  940,    0,   20,    2,   11,   14,    7],\n",
       "       [   1,    1,    5,    2,  902,    0,   14,    9,   10,   38],\n",
       "       [   9,    2,    2,   43,    6,  777,   17,    7,   24,    5],\n",
       "       [  11,    3,    7,    2,    7,   12,  914,    1,    1,    0],\n",
       "       [   1,    7,   21,    7,    3,    1,    0,  958,    3,   27],\n",
       "       [   8,   13,    6,   44,    8,   37,   11,   13,  826,    8],\n",
       "       [  11,    8,    1,   14,   17,    6,    0,   30,    2,  920]],\n",
       "      dtype=int32)>"
      ]
     },
     "execution_count": 22,
     "metadata": {},
     "output_type": "execute_result"
    }
   ],
   "source": [
    "confusion_matrix = tf.math.confusion_matrix(labels = y_test, predictions = y_predicted_label)\n",
    "confusion_matrix"
   ]
  },
  {
   "cell_type": "code",
   "execution_count": 23,
   "id": "be85bebc",
   "metadata": {},
   "outputs": [
    {
     "data": {
      "text/plain": [
       "Text(70.72222222222221, 0.5, 'Truth')"
      ]
     },
     "execution_count": 23,
     "metadata": {},
     "output_type": "execute_result"
    },
    {
     "data": {
      "image/png": "[encoded data removed]",
      "text/plain": [
       "<Figure size 800x800 with 2 Axes>"
      ]
     },
     "metadata": {},
     "output_type": "display_data"
    }
   ],
   "source": [
    "import seaborn as sn\n",
    "plt.figure(figsize = (8,8))\n",
    "sn.heatmap(confusion_matrix, annot = True, fmt = 'd')\n",
    "plt.xlabel('Predicted')\n",
    "plt.ylabel('Truth')"
   ]
  },
  {
   "cell_type": "markdown",
   "id": "770dab2a",
   "metadata": {},
   "source": [
    "Now using the same Model but with 100 hidden layers in between\n",
    "\n",
    "And using the activation relu\n",
    "Note for Output layer we mostly use activation as sigmoid "
   ]
  },
  {
   "cell_type": "code",
   "execution_count": 24,
   "id": "0a3fd18b",
   "metadata": {},
   "outputs": [
    {
     "name": "stdout",
     "output_type": "stream",
     "text": [
      "Epoch 1/10\n",
      "1875/1875 [==============================] - 1s 629us/step - loss: 0.2696 - accuracy: 0.9226\n",
      "Epoch 2/10\n",
      "1875/1875 [==============================] - 1s 644us/step - loss: 0.1209 - accuracy: 0.9653\n",
      "Epoch 3/10\n",
      "1875/1875 [==============================] - 1s 672us/step - loss: 0.0842 - accuracy: 0.9745\n",
      "Epoch 4/10\n",
      "1875/1875 [==============================] - 1s 651us/step - loss: 0.0637 - accuracy: 0.9807\n",
      "Epoch 5/10\n",
      "1875/1875 [==============================] - 1s 652us/step - loss: 0.0510 - accuracy: 0.9845\n",
      "Epoch 6/10\n",
      "1875/1875 [==============================] - 1s 602us/step - loss: 0.0403 - accuracy: 0.9870\n",
      "Epoch 7/10\n",
      "1875/1875 [==============================] - 1s 645us/step - loss: 0.0324 - accuracy: 0.9900\n",
      "Epoch 8/10\n",
      "1875/1875 [==============================] - 1s 649us/step - loss: 0.0263 - accuracy: 0.9922\n",
      "Epoch 9/10\n",
      "1875/1875 [==============================] - 1s 605us/step - loss: 0.0229 - accuracy: 0.9932\n",
      "Epoch 10/10\n",
      "1875/1875 [==============================] - 1s 603us/step - loss: 0.0192 - accuracy: 0.9942\n"
     ]
    },
    {
     "data": {
      "text/plain": [
       "<keras.src.callbacks.History at 0x153a2f9d0>"
      ]
     },
     "execution_count": 24,
     "metadata": {},
     "output_type": "execute_result"
    }
   ],
   "source": [
    "model = keras.Sequential([\n",
    "    keras.layers.Dense(100, input_shape = (784,), activation = 'relu'),\n",
    "    keras.layers.Dense(10,  activation = 'sigmoid')\n",
    "])\n",
    "\n",
    "model.compile(\n",
    "    optimizer = 'adam',\n",
    "    loss = 'sparse_categorical_crossentropy',\n",
    "    metrics = ['accuracy']\n",
    ")\n",
    "\n",
    "model.fit(X_train_flattened, y_train, epochs = 10)"
   ]
  },
  {
   "cell_type": "code",
   "execution_count": 25,
   "id": "421a2cfa",
   "metadata": {},
   "outputs": [
    {
     "name": "stdout",
     "output_type": "stream",
     "text": [
      "313/313 [==============================] - 0s 440us/step - loss: 0.0856 - accuracy: 0.9764\n",
      "313/313 [==============================] - 0s 384us/step\n"
     ]
    }
   ],
   "source": [
    "model.evaluate(X_test_flattened, y_test)\n",
    "y_predicted = model.predict(X_test_flattened)"
   ]
  },
  {
   "cell_type": "code",
   "execution_count": 26,
   "id": "1f4a3e35",
   "metadata": {},
   "outputs": [
    {
     "data": {
      "text/plain": [
       "[7, 2, 1, 0, 4]"
      ]
     },
     "execution_count": 26,
     "metadata": {},
     "output_type": "execute_result"
    }
   ],
   "source": [
    "y_predicted_label = [np.argmax(i) for i in y_predicted]\n",
    "y_predicted_label[:5]"
   ]
  },
  {
   "cell_type": "code",
   "execution_count": 27,
   "id": "23caabbf",
   "metadata": {},
   "outputs": [
    {
     "data": {
      "text/plain": [
       "<tf.Tensor: shape=(10, 10), dtype=int32, numpy=\n",
       "array([[ 961,    0,    7,    1,    2,    2,    2,    1,    3,    1],\n",
       "       [   0, 1117,    7,    1,    1,    0,    2,    1,    5,    1],\n",
       "       [   2,    0, 1014,    4,    1,    0,    1,    2,    7,    1],\n",
       "       [   0,    0,    6,  993,    1,    3,    0,    3,    2,    2],\n",
       "       [   0,    0,    6,    1,  959,    1,    1,    2,    1,   11],\n",
       "       [   1,    1,    0,   23,    1,  856,    3,    3,    3,    1],\n",
       "       [   3,    2,    2,    1,    5,    6,  937,    0,    2,    0],\n",
       "       [   0,    1,    9,    6,    1,    0,    0, 1003,    2,    6],\n",
       "       [   0,    0,    8,   16,    3,    3,    1,    2,  938,    3],\n",
       "       [   0,    3,    1,    7,    5,    1,    0,    5,    1,  986]],\n",
       "      dtype=int32)>"
      ]
     },
     "execution_count": 27,
     "metadata": {},
     "output_type": "execute_result"
    }
   ],
   "source": [
    "confusion_matrix = tf.math.confusion_matrix(labels = y_test, predictions = y_predicted_label)\n",
    "confusion_matrix"
   ]
  },
  {
   "cell_type": "code",
   "execution_count": 28,
   "id": "011792cb",
   "metadata": {},
   "outputs": [
    {
     "data": {
      "text/plain": [
       "Text(70.72222222222221, 0.5, 'Truth')"
      ]
     },
     "execution_count": 28,
     "metadata": {},
     "output_type": "execute_result"
    },
    {
     "data": {
      "image/png": "[encoded data removed]",
      "text/plain": [
       "<Figure size 800x800 with 2 Axes>"
      ]
     },
     "metadata": {},
     "output_type": "display_data"
    }
   ],
   "source": [
    "import seaborn as sn\n",
    "plt.figure(figsize = (8,8))\n",
    "sn.heatmap(confusion_matrix, annot = True, fmt = 'd')\n",
    "plt.xlabel('Predicted')\n",
    "plt.ylabel('Truth')"
   ]
  },
  {
   "cell_type": "markdown",
   "id": "f8cff036",
   "metadata": {},
   "source": [
    "Now if we wish not to do flattened by ourself\n",
    "\n",
    "\n",
    "We can use keras.layers.Flatten(input_shape = (28,28))"
   ]
  },
  {
   "cell_type": "code",
   "execution_count": 29,
   "id": "c6a6d5b3",
   "metadata": {},
   "outputs": [
    {
     "name": "stdout",
     "output_type": "stream",
     "text": [
      "Epoch 1/10\n",
      "1875/1875 [==============================] - 1s 614us/step - loss: 0.2696 - accuracy: 0.9234\n",
      "Epoch 2/10\n",
      "1875/1875 [==============================] - 1s 600us/step - loss: 0.1249 - accuracy: 0.9625\n",
      "Epoch 3/10\n",
      "1875/1875 [==============================] - 1s 609us/step - loss: 0.0871 - accuracy: 0.9740\n",
      "Epoch 4/10\n",
      "1875/1875 [==============================] - 1s 606us/step - loss: 0.0673 - accuracy: 0.9790\n",
      "Epoch 5/10\n",
      "1875/1875 [==============================] - 1s 620us/step - loss: 0.0519 - accuracy: 0.9841\n",
      "Epoch 6/10\n",
      "1875/1875 [==============================] - 1s 612us/step - loss: 0.0428 - accuracy: 0.9869\n",
      "Epoch 7/10\n",
      "1875/1875 [==============================] - 1s 626us/step - loss: 0.0347 - accuracy: 0.9896\n",
      "Epoch 8/10\n",
      "1875/1875 [==============================] - 1s 673us/step - loss: 0.0286 - accuracy: 0.9908\n",
      "Epoch 9/10\n",
      "1875/1875 [==============================] - 1s 661us/step - loss: 0.0238 - accuracy: 0.9926\n",
      "Epoch 10/10\n",
      "1875/1875 [==============================] - 1s 643us/step - loss: 0.0198 - accuracy: 0.9937\n"
     ]
    },
    {
     "data": {
      "text/plain": [
       "<keras.src.callbacks.History at 0x154a6ec10>"
      ]
     },
     "execution_count": 29,
     "metadata": {},
     "output_type": "execute_result"
    }
   ],
   "source": [
    "model = keras.Sequential([\n",
    "    keras.layers.Flatten(input_shape = (28,28)),\n",
    "    keras.layers.Dense(100, activation = 'relu'),\n",
    "    keras.layers.Dense(10,  activation = 'sigmoid')\n",
    "])\n",
    "\n",
    "model.compile(\n",
    "    optimizer = 'adam',\n",
    "    loss = 'sparse_categorical_crossentropy',\n",
    "    metrics = ['accuracy']\n",
    ")\n",
    "\n",
    "model.fit(X_train, y_train, epochs = 10)"
   ]
  },
  {
   "cell_type": "code",
   "execution_count": 37,
   "id": "dc12129b",
   "metadata": {},
   "outputs": [
    {
     "name": "stdout",
     "output_type": "stream",
     "text": [
      "313/313 [==============================] - 0s 461us/step - loss: 0.0766 - accuracy: 0.9791\n",
      "313/313 [==============================] - 0s 387us/step\n"
     ]
    }
   ],
   "source": [
    "model.evaluate(X_test, y_test)\n",
    "y_predicted = model.predict(X_test)"
   ]
  },
  {
   "cell_type": "code",
   "execution_count": 49,
   "id": "c82f4aee",
   "metadata": {},
   "outputs": [
    {
     "name": "stdout",
     "output_type": "stream",
     "text": [
      "Epoch 1/20\n",
      "1875/1875 [==============================] - 1s 671us/step - loss: 0.2543 - accuracy: 0.9247\n",
      "Epoch 2/20\n",
      "1875/1875 [==============================] - 1s 667us/step - loss: 0.1100 - accuracy: 0.9668\n",
      "Epoch 3/20\n",
      "1875/1875 [==============================] - 1s 667us/step - loss: 0.0794 - accuracy: 0.9760\n",
      "Epoch 4/20\n",
      "1875/1875 [==============================] - 1s 720us/step - loss: 0.0614 - accuracy: 0.9809\n",
      "Epoch 5/20\n",
      "1875/1875 [==============================] - 1s 766us/step - loss: 0.0492 - accuracy: 0.9844\n",
      "Epoch 6/20\n",
      "1875/1875 [==============================] - 1s 663us/step - loss: 0.0406 - accuracy: 0.9864\n",
      "Epoch 7/20\n",
      "1875/1875 [==============================] - 1s 663us/step - loss: 0.0320 - accuracy: 0.9897\n",
      "Epoch 8/20\n",
      "1875/1875 [==============================] - 1s 663us/step - loss: 0.0290 - accuracy: 0.9906\n",
      "Epoch 9/20\n",
      "1875/1875 [==============================] - 1s 665us/step - loss: 0.0230 - accuracy: 0.9925\n",
      "Epoch 10/20\n",
      "1875/1875 [==============================] - 1s 667us/step - loss: 0.0224 - accuracy: 0.9923\n",
      "Epoch 11/20\n",
      "1875/1875 [==============================] - 1s 665us/step - loss: 0.0198 - accuracy: 0.9935\n",
      "Epoch 12/20\n",
      "1875/1875 [==============================] - 1s 668us/step - loss: 0.0160 - accuracy: 0.9944\n",
      "Epoch 13/20\n",
      "1875/1875 [==============================] - 1s 664us/step - loss: 0.0164 - accuracy: 0.9943\n",
      "Epoch 14/20\n",
      "1875/1875 [==============================] - 1s 666us/step - loss: 0.0132 - accuracy: 0.9956\n",
      "Epoch 15/20\n",
      "1875/1875 [==============================] - 1s 666us/step - loss: 0.0131 - accuracy: 0.9954\n",
      "Epoch 16/20\n",
      "1875/1875 [==============================] - 1s 666us/step - loss: 0.0131 - accuracy: 0.9954\n",
      "Epoch 17/20\n",
      "1875/1875 [==============================] - 1s 693us/step - loss: 0.0121 - accuracy: 0.9955\n",
      "Epoch 18/20\n",
      "1875/1875 [==============================] - 1s 667us/step - loss: 0.0114 - accuracy: 0.9961\n",
      "Epoch 19/20\n",
      "1875/1875 [==============================] - 1s 664us/step - loss: 0.0106 - accuracy: 0.9967\n",
      "Epoch 20/20\n",
      "1875/1875 [==============================] - 1s 665us/step - loss: 0.0095 - accuracy: 0.9969\n"
     ]
    },
    {
     "data": {
      "text/plain": [
       "<keras.src.callbacks.History at 0x2a10bdf90>"
      ]
     },
     "execution_count": 49,
     "metadata": {},
     "output_type": "execute_result"
    }
   ],
   "source": [
    "from tensorflow import keras\n",
    "\n",
    "model = keras.Sequential([\n",
    "    keras.layers.Flatten(input_shape=(28, 28)),\n",
    "    keras.layers.Dense(100, activation='relu'),\n",
    "    keras.layers.Dense(50, activation='relu'),  \n",
    "    keras.layers.Dense(10, activation='sigmoid')\n",
    "])\n",
    "\n",
    "model.compile(\n",
    "    optimizer='adam',\n",
    "    loss='sparse_categorical_crossentropy',\n",
    "    metrics=['accuracy']\n",
    ")\n",
    "\n",
    "model.fit(X_train, y_train, epochs=20)\n"
   ]
  },
  {
   "cell_type": "code",
   "execution_count": null,
   "id": "029e86b4",
   "metadata": {},
   "outputs": [],
   "source": []
  },
  {
   "cell_type": "code",
   "execution_count": null,
   "id": "e386e283",
   "metadata": {},
   "outputs": [],
   "source": []
  }
 ],
 "metadata": {
  "kernelspec": {
   "display_name": "tfkernel",
   "language": "python",
   "name": "tfkernel"
  },
  "language_info": {
   "codemirror_mode": {
    "name": "ipython",
    "version": 3
   },
   "file_extension": ".py",
   "mimetype": "text/x-python",
   "name": "python",
   "nbconvert_exporter": "python",
   "pygments_lexer": "ipython3",
   "version": "3.11.5"
  }
 },
 "nbformat": 4,
 "nbformat_minor": 5
}
